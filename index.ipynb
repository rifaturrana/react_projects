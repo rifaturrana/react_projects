{
 "cells": [
  {
   "cell_type": "code",
   "execution_count": 2,
   "metadata": {},
   "outputs": [
    {
     "data": {
      "text/plain": [
       "'Hello World'"
      ]
     },
     "execution_count": 2,
     "metadata": {},
     "output_type": "execute_result"
    }
   ],
   "source": [
    "str='Hello World'\n",
    "str"
   ]
  },
  {
   "cell_type": "code",
   "execution_count": 4,
   "metadata": {},
   "outputs": [
    {
     "data": {
      "text/plain": [
       "'Hello Universe'"
      ]
     },
     "execution_count": 4,
     "metadata": {},
     "output_type": "execute_result"
    }
   ],
   "source": [
    "str.replace('World','Universe')"
   ]
  },
  {
   "cell_type": "code",
   "execution_count": 3,
   "metadata": {},
   "outputs": [
    {
     "data": {
      "text/plain": [
       "'a'"
      ]
     },
     "execution_count": 3,
     "metadata": {},
     "output_type": "execute_result"
    }
   ],
   "source": [
    "x='a'\n",
    "chr(ord(x))\n",
    "\n"
   ]
  },
  {
   "cell_type": "code",
   "execution_count": 1,
   "metadata": {},
   "outputs": [
    {
     "name": "stdout",
     "output_type": "stream",
     "text": [
      "bcdA"
     ]
    }
   ],
   "source": [
    "#write a program that takes a string as input\n",
    "#and shifts all the characters by 1\n",
    "\n",
    "s=input('Enter string')\n",
    "\n",
    "for i in s:\n",
    "  if not i.isalpha():\n",
    "    print(i,end=\"\")\n",
    "  elif i=='z':\n",
    "    print('a',end='')\n",
    "  elif i=='Z':\n",
    "    print('A',end=\"\")\n",
    "  else:\n",
    "     print(chr(ord(i)+1),end=\"\")\n",
    "\n",
    " "
   ]
  },
  {
   "cell_type": "code",
   "execution_count": 7,
   "metadata": {},
   "outputs": [
    {
     "data": {
      "text/plain": [
       "2"
      ]
     },
     "execution_count": 7,
     "metadata": {},
     "output_type": "execute_result"
    }
   ],
   "source": [
    "numbers=input(\"Enter some numbers\")\n",
    "numbers=numbers.split();\n",
    "numbers=[int(i) for i in numbers]\n",
    "mode=numbers[0]\n",
    "max_count=1\n",
    "for i in numbers:\n",
    "    temp_count=numbers.count(numbers[i])\n",
    "    if temp_count>max_count:\n",
    "        max_count=temp_count\n",
    "        mode=numbers[i]\n",
    "mode"
   ]
  },
  {
   "cell_type": "code",
   "execution_count": 16,
   "metadata": {},
   "outputs": [
    {
     "name": "stdout",
     "output_type": "stream",
     "text": [
      "[1, 2] [9, 10]\n"
     ]
    }
   ],
   "source": [
    "points=[[1,2],[3,4],[5,6],[7,8],[9,10]]\n",
    "max_dis=0\n",
    "\n",
    "for i in range(len(points)):\n",
    "    for j in range(i+1,len(points)):\n",
    "        distance=((points[j][0]-points[i][0])**2+(points[j][1]-points[i][1])**2)\n",
    "        if distance>max_dis:\n",
    "            max_dis=distance\n",
    "            point1=points[i]\n",
    "            point2=points[j]\n",
    "print(point1,point2)"
   ]
  },
  {
   "cell_type": "code",
   "execution_count": 8,
   "metadata": {},
   "outputs": [
    {
     "name": "stdout",
     "output_type": "stream",
     "text": [
      "i like "
     ]
    }
   ],
   "source": [
    "x=input(\"Enter the first string\")\n",
    "y=input(\"Enter the second string\")\n",
    "\n",
    "x=x.split()\n",
    "y=y.split()\n",
    "# for i in range(len(x)):\n",
    "#     if x[i]==y[i]:\n",
    "#         print(x[i],end=\" \")\n",
    "\n",
    "for i in x:\n",
    "    if i in y:\n",
    "        print(i,end=\" \")"
   ]
  },
  {
   "cell_type": "code",
   "execution_count": 20,
   "metadata": {},
   "outputs": [
    {
     "name": "stdout",
     "output_type": "stream",
     "text": [
      "['1', '23', '1', '1']\n"
     ]
    },
    {
     "data": {
      "text/plain": [
       "[1, 2, 3, 4]"
      ]
     },
     "execution_count": 20,
     "metadata": {},
     "output_type": "execute_result"
    }
   ],
   "source": [
    "numbers=input(\"Enter some numbers\")\n",
    "numbers=numbers.split();\n",
    "numbers=[int(i) for i in numbers]\n",
    "\n",
    "# print(list(set(numbers)))\n",
    "\n",
    "x=[1,2,3,4,1,1,2,3]\n",
    "\n",
    "x_new=[]\n",
    "\n",
    "for i in x:\n",
    "    if i not in x_new:\n",
    "        x_new.append(i)\n",
    "\n",
    "x_new"
   ]
  },
  {
   "cell_type": "code",
   "execution_count": 24,
   "metadata": {},
   "outputs": [
    {
     "name": "stdout",
     "output_type": "stream",
     "text": [
      "5\n"
     ]
    }
   ],
   "source": [
    "from math import gcd\n",
    "\n",
    "lst=[int(i) for i in input(\"list: \").split()]\n",
    "\n",
    "gcd_=lst[0]\n",
    "\n",
    "for i in range(1,len(lst)):\n",
    "    gcd_=gcd(gcd_,lst[i])\n",
    "\n",
    "\n",
    "\n",
    "print(gcd_)"
   ]
  },
  {
   "cell_type": "code",
   "execution_count": 6,
   "metadata": {},
   "outputs": [
    {
     "name": "stdout",
     "output_type": "stream",
     "text": [
      "1 :  3\n",
      "2 :  2\n",
      "3 :  2\n"
     ]
    }
   ],
   "source": [
    "x=(1,2,3,1,2,3,1)\n",
    "y=[]\n",
    "\n",
    "for i in x:\n",
    "    if i not in y:\n",
    "        n=x.count(i)\n",
    "        print(i,\": \",n)\n",
    "        y.append(i)\n"
   ]
  },
  {
   "cell_type": "code",
   "execution_count": 2,
   "metadata": {},
   "outputs": [
    {
     "data": {
      "text/plain": [
       "[('India', 'Delhi'),\n",
       " ('Bangladesh', 'Dhaka'),\n",
       " ('Pakistan', 'Islamabad'),\n",
       " ('Nepal', 'Kathmunda'),\n",
       " ('America', 'Ny')]"
      ]
     },
     "execution_count": 2,
     "metadata": {},
     "output_type": "execute_result"
    }
   ],
   "source": [
    "x={\n",
    "    'Bangladesh':'Dhaka',\n",
    "    'India':'Delhi',\n",
    "    'Pakistan':'Islamabad',\n",
    "    'Nepal':'Kathmunda',\n",
    "    'America':'Ny'\n",
    "}\n",
    "\n",
    "x=list(x.items())\n",
    "x=sorted(x)\n",
    "x\n",
    "x=sorted(x,key=lambda x:x[1])\n",
    "x\n",
    "\n"
   ]
  },
  {
   "cell_type": "code",
   "execution_count": 11,
   "metadata": {},
   "outputs": [
    {
     "name": "stdout",
     "output_type": "stream",
     "text": [
      "Hello World\n",
      "(1, 2, 3, 4, 5)\n"
     ]
    }
   ],
   "source": [
    "def func():\n",
    "    print(\"Hello World\")\n",
    "    return 1,2,3,4,5\n",
    "x=func()\n",
    "print(x)\n"
   ]
  },
  {
   "cell_type": "code",
   "execution_count": 12,
   "metadata": {},
   "outputs": [
    {
     "name": "stdout",
     "output_type": "stream",
     "text": [
      "3\n"
     ]
    }
   ],
   "source": [
    "def add(x,y):\n",
    "    return x+y\n",
    "print(add(1,2))"
   ]
  },
  {
   "cell_type": "code",
   "execution_count": 13,
   "metadata": {},
   "outputs": [
    {
     "data": {
      "text/plain": [
       "[1, 2, 3, 4, 6, 12]"
      ]
     },
     "execution_count": 13,
     "metadata": {},
     "output_type": "execute_result"
    }
   ],
   "source": [
    "# write a function that takes a number and return a list of all of its factors\n",
    "\n",
    "def factors(x):\n",
    "    factors=[]\n",
    "    for i in range(1,x+1):\n",
    "        if x%i==0:\n",
    "            factors.append(i)\n",
    "    return factors\n",
    "factors(12)"
   ]
  },
  {
   "cell_type": "code",
   "execution_count": 15,
   "metadata": {},
   "outputs": [
    {
     "name": "stdout",
     "output_type": "stream",
     "text": [
      "3 5\n",
      "5 7\n",
      "11 13\n",
      "17 19\n",
      "29 31\n",
      "41 43\n",
      "59 61\n",
      "71 73\n"
     ]
    }
   ],
   "source": [
    "n=int(input(\"Enter a number: \"))\n",
    "\n",
    "for i in range(3,n-1):\n",
    "    isPrime=True\n",
    "    for j in range(2,i):\n",
    "        if i%j==0:\n",
    "            isPrime=False\n",
    "            break\n",
    "    if isPrime:\n",
    "        isTwinPrime=True\n",
    "        for j in range(2,i+2):\n",
    "            if (i+2)%j==0:\n",
    "                isTwinPrime=False\n",
    "                break\n",
    "        if isTwinPrime:\n",
    "            print(i,i+2)\n",
    "\n",
    "\n"
   ]
  },
  {
   "cell_type": "code",
   "execution_count": 20,
   "metadata": {},
   "outputs": [],
   "source": [
    "def isPrime(n):\n",
    "    for i in range(2,int(n ** 0.5 + 1)):\n",
    "        if n%i == 0:\n",
    "            return False\n",
    "    return True"
   ]
  },
  {
   "cell_type": "code",
   "execution_count": 21,
   "metadata": {},
   "outputs": [],
   "source": [
    "def isTwinPrime(n):\n",
    "    return isPrime(n) and isPrime(n+2)"
   ]
  },
  {
   "cell_type": "code",
   "execution_count": 22,
   "metadata": {},
   "outputs": [
    {
     "name": "stdout",
     "output_type": "stream",
     "text": [
      "3 5\n",
      "5 7\n",
      "11 13\n",
      "17 19\n",
      "29 31\n",
      "41 43\n",
      "59 61\n",
      "71 73\n"
     ]
    }
   ],
   "source": [
    "n=int(input(\"Enter a number: \"))\n",
    "for i in range(3,n-1):\n",
    "    if isTwinPrime(i):\n",
    "        print(i,i+2)"
   ]
  },
  {
   "cell_type": "code",
   "execution_count": 26,
   "metadata": {},
   "outputs": [
    {
     "data": {
      "text/plain": [
       "[1, 2, 3]"
      ]
     },
     "execution_count": 26,
     "metadata": {},
     "output_type": "execute_result"
    }
   ],
   "source": [
    "#perfect number\n",
    "#for example 6 is a perfect number because 1+2+3=6\n",
    "\n",
    "def isPerfect(n):\n",
    "    sum=0\n",
    "    ans=[]\n",
    "    for i in range(1,n):\n",
    "        if n%i==0:\n",
    "            sum+=i\n",
    "            ans.append(i)\n",
    "    if sum==n:\n",
    "        return ans\n",
    "    else:\n",
    "        return False\n",
    "isPerfect(6)"
   ]
  },
  {
   "cell_type": "code",
   "execution_count": 29,
   "metadata": {},
   "outputs": [
    {
     "name": "stdout",
     "output_type": "stream",
     "text": [
      "(1, 2, 3, 4, 5, 6, 7, 8, 9, 10)\n",
      "{'name': 'Rakib', 'age': 20}\n"
     ]
    }
   ],
   "source": [
    "def sum(*args):\n",
    "    print(args)\n",
    "    sum=0\n",
    "    for i in args:\n",
    "        sum+=i\n",
    "    return sum\n",
    "# sum(1,2,3,4,5,6,7,8,9,10)\n",
    "\n",
    "# def kwargs(**kwargs):\n",
    "#     print(kwargs)\n",
    "\n",
    "# kwargs(name='Rakib',age=20)"
   ]
  },
  {
   "cell_type": "code",
   "execution_count": 30,
   "metadata": {},
   "outputs": [
    {
     "data": {
      "text/plain": [
       "120"
      ]
     },
     "execution_count": 30,
     "metadata": {},
     "output_type": "execute_result"
    }
   ],
   "source": [
    "#base case\n",
    "#recursive case/ recurrence relation\n",
    "def factorial(n):\n",
    "    if n==0:\n",
    "        return 1\n",
    "    else:\n",
    "        return n*factorial(n-1)\n",
    "\n",
    "factorial(5)"
   ]
  },
  {
   "cell_type": "code",
   "execution_count": 40,
   "metadata": {},
   "outputs": [
    {
     "name": "stdout",
     "output_type": "stream",
     "text": [
      "102334155\n",
      "0.0\n"
     ]
    }
   ],
   "source": [
    "import time\n",
    "fib_dic={0:0,1:1}\n",
    "def altFibonacci(n):\n",
    "    if n in fib_dic:\n",
    "        return fib_dic[n]\n",
    "    else:\n",
    "        fib_dic[n]=altFibonacci(n-1)+altFibonacci(n-2)\n",
    "        return fib_dic[n]\n",
    "n=int(input(\"Enter a number: \"))\n",
    "start=time.time()\n",
    "print(altFibonacci(n))\n",
    "end=time.time()\n",
    "print(end-start)"
   ]
  },
  {
   "cell_type": "code",
   "execution_count": 43,
   "metadata": {},
   "outputs": [],
   "source": [
    "# import time\n",
    "# def fibonacci(n):\n",
    "#     if n==0 :\n",
    "#         return 0\n",
    "#     elif n==1:\n",
    "#         return 1\n",
    "#     else:\n",
    "#         return fibonacci(n-1)+fibonacci(n-2)\n",
    "\n",
    "# n=int(input(\"Enter a number: \"))\n",
    "# start=time.time()\n",
    "# print(fibonacci(n))\n",
    "# end=time.time()\n",
    "# print(end-start)"
   ]
  },
  {
   "cell_type": "code",
   "execution_count": 48,
   "metadata": {},
   "outputs": [
    {
     "data": {
      "text/plain": [
       "False"
      ]
     },
     "execution_count": 48,
     "metadata": {},
     "output_type": "execute_result"
    }
   ],
   "source": [
    "#palindrome string\n",
    "\n",
    "def isPalindrome(s):\n",
    "    return s==s[::-1]\n",
    "s=input(\"Enter a string: \")\n",
    "\n",
    "isPalindrome(s)"
   ]
  },
  {
   "cell_type": "code",
   "execution_count": 49,
   "metadata": {},
   "outputs": [
    {
     "data": {
      "text/plain": [
       "True"
      ]
     },
     "execution_count": 49,
     "metadata": {},
     "output_type": "execute_result"
    }
   ],
   "source": [
    "def is_palindrome(s):\n",
    "    if len(s)<=1:\n",
    "        return True\n",
    "    if s[0]!=s[-1]:\n",
    "        return False\n",
    "    return is_palindrome(s[1:-1])\n",
    "\n",
    "s=input(\"Enter a string: \")\n",
    "is_palindrome(s)"
   ]
  },
  {
   "cell_type": "code",
   "execution_count": null,
   "metadata": {},
   "outputs": [],
   "source": [
    "#python file handling\n",
    "#there are different modes to open a file\n",
    "#r: read mode\n",
    "#w: write mode\n",
    "#a: append mode\n",
    "#r+: read and write mode\n",
    "#w+: write and read mode\n",
    "#a+: append and read mode\n",
    "#x: create mode"
   ]
  },
  {
   "cell_type": "code",
   "execution_count": 53,
   "metadata": {},
   "outputs": [],
   "source": [
    "file=open(\"test.txt\",\"w\")\n",
    "file.write(\"Hello World\")\n",
    "file.close()"
   ]
  },
  {
   "cell_type": "code",
   "execution_count": 58,
   "metadata": {},
   "outputs": [
    {
     "name": "stdout",
     "output_type": "stream",
     "text": [
      "Hello World 2HelloWorld3Hello World 2HelloWorld3Hello World 2HelloWorld3\n",
      "Hello World 2HelloWorld3\n",
      "\n"
     ]
    }
   ],
   "source": [
    "with open(\"test.txt\",\"a\") as file:\n",
    "    file.write(\"Hello World 2\")\n",
    "    to_write=[\"Hello\",\"World\",\"3\",\"\\n\"]\n",
    "    file.writelines(to_write)\n",
    "\n"
   ]
  },
  {
   "cell_type": "code",
   "execution_count": 59,
   "metadata": {},
   "outputs": [
    {
     "name": "stdout",
     "output_type": "stream",
     "text": [
      "Hello World 2HelloWorld3Hello World 2HelloWorld3Hello World 2HelloWorld3\n",
      "Hello World 2HelloWorld3\n",
      "\n"
     ]
    }
   ],
   "source": [
    "with open(\"test.txt\",\"r\") as file:\n",
    "    file_content=file.read()\n",
    "    print(file_content)"
   ]
  },
  {
   "cell_type": "code",
   "execution_count": 70,
   "metadata": {},
   "outputs": [
    {
     "name": "stdout",
     "output_type": "stream",
     "text": [
      "[10, 12, -18, 27, 114, 67, 48]\n"
     ]
    }
   ],
   "source": [
    "#write a program that reads a file and prints the sum of all the numbers in the file and write it to sum.txt\n",
    "sum=0\n",
    "with open(\"test.txt\",\"r\") as file:\n",
    "    file_content=file.read()\n",
    "    file_content=file_content.split()\n",
    "    file_content=[int(i) for i in file_content]\n",
    "    print(file_content)\n",
    "    with open(\"another.txt\",\"a\") as anotherFile:\n",
    "        for i in file_content:\n",
    "            sum+=i\n",
    "        anotherFile.write(str(sum))\n",
    "      \n",
    "\n",
    "\n"
   ]
  },
  {
   "cell_type": "code",
   "execution_count": 72,
   "metadata": {},
   "outputs": [
    {
     "name": "stdout",
     "output_type": "stream",
     "text": [
      "15\n"
     ]
    }
   ],
   "source": [
    "with open(\"test.txt\",\"r\") as file:\n",
    "    x=file.read()\n",
    "    x=x.replace(\",\",\"\")\n",
    "    x=x.replace(\".\",\"\")\n",
    "    x=x.split()\n",
    "    x=set(x)\n",
    "    print(len(x))"
   ]
  },
  {
   "cell_type": "code",
   "execution_count": 76,
   "metadata": {},
   "outputs": [],
   "source": [
    "def cond1(email):\n",
    "    return email.count(\"@\")==1\n",
    "\n",
    "def cond2(email):\n",
    "    return email[0]!=\"@\" and email[-1]!=\"@\"\n",
    "\n",
    "def cond3(email):\n",
    "    return email.index(\"@\") != 0 and email.index(\"@\") != len(email)-1\n",
    "\n",
    "def cond4(email):\n",
    "    before,after=email.split(\"@\")\n",
    "    return after.count(\".\")>=1\n",
    "\n",
    "def cond5(email):\n",
    "    before,after=email.split(\"@\")\n",
    "    return after[0]!=\".\" and after[-1]!=\".\"\n",
    "\n",
    "def cond6(email):\n",
    "    before,after=email.split(\"@\")\n",
    "    return len(after.split(\".\")[-1])>=2\n",
    "\n",
    "def isValidEmail(email):\n",
    "    return cond1(email) and cond2(email) and cond3(email) and cond4(email) and cond5(email) and cond6(email)\n",
    "\n",
    "def writeValidEmails(input_file,output_file):\n",
    "    with open(input_file,\"r\") as file:\n",
    "        emails=file.read().splitlines()\n",
    "        print(emails)\n",
    "        with open(output_file,\"w\") as file2:\n",
    "            for email in emails:\n",
    "                if isValidEmail(email):\n",
    "                    file2.write(email+'\\n')\n",
    "                else:\n",
    "                    file2.write(email+\" is invalid\")\n"
   ]
  },
  {
   "cell_type": "code",
   "execution_count": 77,
   "metadata": {},
   "outputs": [
    {
     "name": "stdout",
     "output_type": "stream",
     "text": [
      "['john.doe@example.com', 'peter.pan@gmai1.com', 'alice.wonderland@yahoo.com', 'david.smith@outlook.com', 'sarah.connor@terminator.n', 'harry.potter@hogwarts.edu', 'luke.skywalker@jediorg']\n"
     ]
    }
   ],
   "source": [
    "writeValidEmails(\"test.txt\",\"valid_emails.txt\")"
   ]
  },
  {
   "cell_type": "code",
   "execution_count": 12,
   "metadata": {},
   "outputs": [
    {
     "name": "stderr",
     "output_type": "stream",
     "text": [
      "C:\\Users\\Dell\\AppData\\Local\\Temp\\ipykernel_8368\\160075205.py:7: SettingWithCopyWarning: \n",
      "A value is trying to be set on a copy of a slice from a DataFrame\n",
      "\n",
      "See the caveats in the documentation: https://pandas.pydata.org/pandas-docs/stable/user_guide/indexing.html#returning-a-view-versus-a-copy\n",
      "  df['Name'][1]='Rana'\n"
     ]
    }
   ],
   "source": [
    "import pandas as pd\n",
    "\n",
    "df=pd.read_csv('sample.csv')\n",
    "\n",
    "# df.head(10)\n",
    "df.iloc[0:5:2]['Name']\n",
    "df['Name'][1]='Rana'\n",
    "df.head(10)\n",
    "\n",
    "df.to_csv('random.csv',index=False)"
   ]
  },
  {
   "cell_type": "code",
   "execution_count": 16,
   "metadata": {},
   "outputs": [
    {
     "name": "stdout",
     "output_type": "stream",
     "text": [
      "['john.doe@example.com', 'peter.pan@gmai1.com', 'alice.wonderland@yahoo.com', 'david.smith@outlook.com', 'sarah.connor@terminator.n', 'harry.potter@hogwarts.edu', 'luke.skywalker@jediorg', '', 'বাংলা কেমন আছ?']\n"
     ]
    }
   ],
   "source": [
    "with open('test.txt','r',encoding='utf-8') as file:\n",
    "    file_content=file.read().splitlines()\n",
    "    print(file_content)\n",
    "with open('output.txt','w', encoding='utf-8') as file:\n",
    "    for line in file_content:\n",
    "        file.write(line+'\\n')"
   ]
  },
  {
   "cell_type": "code",
   "execution_count": 19,
   "metadata": {},
   "outputs": [],
   "source": [
    "#Hashmap\n",
    "#Hashmap is a data structure that stores data in key value pairs\n",
    "#Hashmap is a collection of key value pairs\n",
    "dictionary=dict([(i,i) for i in range(100000)])\n",
    "\n"
   ]
  },
  {
   "cell_type": "code",
   "execution_count": 21,
   "metadata": {},
   "outputs": [
    {
     "name": "stdout",
     "output_type": "stream",
     "text": [
      "10000\n"
     ]
    }
   ],
   "source": [
    "try:\n",
    "    print(dictionary[10000])\n",
    "except KeyError:\n",
    "    print(\"Key not found\")"
   ]
  },
  {
   "cell_type": "code",
   "execution_count": 40,
   "metadata": {},
   "outputs": [
    {
     "name": "stdout",
     "output_type": "stream",
     "text": [
      "{}\n",
      "{2: 0}\n",
      "{2: 0, 11: 1}\n",
      "0\n",
      "[0, 2]\n"
     ]
    }
   ],
   "source": [
    "# write a  program that  takes a list of numbers and integer kas input\n",
    "# and returns two indices of the list whose values add up to k\n",
    "# if there are no such indices, return None\n",
    "# the time complexity of your solution should be O(n)\n",
    "\n",
    "def twoSum(nums,k):\n",
    "    dictionary=dict()\n",
    "    for i in range(len(nums)):\n",
    "        if k-nums[i] in dictionary: \n",
    "            print(dictionary)\n",
    "            print(dictionary[k-nums[i]])\n",
    "            return [dictionary[k-nums[i]],i]\n",
    "        else:\n",
    "            print(dictionary)\n",
    "            dictionary[nums[i]]=i\n",
    "    return None\n",
    "\n",
    "nums=[2,11,7,15]\n",
    "k=9\n",
    "print(twoSum(nums,k))"
   ]
  },
  {
   "cell_type": "code",
   "execution_count": 39,
   "metadata": {},
   "outputs": [
    {
     "data": {
      "text/plain": [
       "{1: 2}"
      ]
     },
     "execution_count": 39,
     "metadata": {},
     "output_type": "execute_result"
    }
   ],
   "source": []
  },
  {
   "cell_type": "code",
   "execution_count": 29,
   "metadata": {},
   "outputs": [],
   "source": [
    "class Student:\n",
    "    def __init__(self,name,age):\n",
    "        self.name=name\n",
    "        self.age=age\n",
    "        print(\"Create a student object with name %s and age %d\"%(self.name,self.age))"
   ]
  },
  {
   "cell_type": "code",
   "execution_count": 31,
   "metadata": {},
   "outputs": [
    {
     "name": "stdout",
     "output_type": "stream",
     "text": [
      "Create a student object with name Rana and age 24\n"
     ]
    },
    {
     "data": {
      "text/plain": [
       "'Rana'"
      ]
     },
     "execution_count": 31,
     "metadata": {},
     "output_type": "execute_result"
    }
   ],
   "source": [
    "student_1=Student('Rana',24)\n",
    "student_1.name"
   ]
  }
 ],
 "metadata": {
  "kernelspec": {
   "display_name": "Python 3",
   "language": "python",
   "name": "python3"
  },
  "language_info": {
   "codemirror_mode": {
    "name": "ipython",
    "version": 3
   },
   "file_extension": ".py",
   "mimetype": "text/x-python",
   "name": "python",
   "nbconvert_exporter": "python",
   "pygments_lexer": "ipython3",
   "version": "3.11.3"
  },
  "orig_nbformat": 4
 },
 "nbformat": 4,
 "nbformat_minor": 2
}
